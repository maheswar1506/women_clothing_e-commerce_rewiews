{
 "cells": [
  {
   "cell_type": "code",
   "execution_count": 1,
   "metadata": {},
   "outputs": [],
   "source": [
    "import numpy as np\n",
    "import pandas as pd\n",
    "import matplotlib.pyplot as plt\n",
    "import seaborn as sns\n",
    "import warnings; warnings.simplefilter('ignore')"
   ]
  },
  {
   "cell_type": "code",
   "execution_count": 2,
   "metadata": {},
   "outputs": [
    {
     "data": {
      "text/html": [
       "<div>\n",
       "<style scoped>\n",
       "    .dataframe tbody tr th:only-of-type {\n",
       "        vertical-align: middle;\n",
       "    }\n",
       "\n",
       "    .dataframe tbody tr th {\n",
       "        vertical-align: top;\n",
       "    }\n",
       "\n",
       "    .dataframe thead th {\n",
       "        text-align: right;\n",
       "    }\n",
       "</style>\n",
       "<table border=\"1\" class=\"dataframe\">\n",
       "  <thead>\n",
       "    <tr style=\"text-align: right;\">\n",
       "      <th></th>\n",
       "      <th>Unnamed: 0</th>\n",
       "      <th>Clothing ID</th>\n",
       "      <th>Age</th>\n",
       "      <th>Title</th>\n",
       "      <th>Review Text</th>\n",
       "      <th>Rating</th>\n",
       "      <th>Recommended IND</th>\n",
       "      <th>Positive Feedback Count</th>\n",
       "      <th>Division Name</th>\n",
       "      <th>Department Name</th>\n",
       "      <th>Class Name</th>\n",
       "    </tr>\n",
       "  </thead>\n",
       "  <tbody>\n",
       "    <tr>\n",
       "      <th>0</th>\n",
       "      <td>0</td>\n",
       "      <td>767</td>\n",
       "      <td>33</td>\n",
       "      <td>NaN</td>\n",
       "      <td>Absolutely wonderful - silky and sexy and comf...</td>\n",
       "      <td>4</td>\n",
       "      <td>1</td>\n",
       "      <td>0</td>\n",
       "      <td>Initmates</td>\n",
       "      <td>Intimate</td>\n",
       "      <td>Intimates</td>\n",
       "    </tr>\n",
       "    <tr>\n",
       "      <th>1</th>\n",
       "      <td>1</td>\n",
       "      <td>1080</td>\n",
       "      <td>34</td>\n",
       "      <td>NaN</td>\n",
       "      <td>Love this dress!  it's sooo pretty.  i happene...</td>\n",
       "      <td>5</td>\n",
       "      <td>1</td>\n",
       "      <td>4</td>\n",
       "      <td>General</td>\n",
       "      <td>Dresses</td>\n",
       "      <td>Dresses</td>\n",
       "    </tr>\n",
       "    <tr>\n",
       "      <th>2</th>\n",
       "      <td>2</td>\n",
       "      <td>1077</td>\n",
       "      <td>60</td>\n",
       "      <td>Some major design flaws</td>\n",
       "      <td>I had such high hopes for this dress and reall...</td>\n",
       "      <td>3</td>\n",
       "      <td>0</td>\n",
       "      <td>0</td>\n",
       "      <td>General</td>\n",
       "      <td>Dresses</td>\n",
       "      <td>Dresses</td>\n",
       "    </tr>\n",
       "    <tr>\n",
       "      <th>3</th>\n",
       "      <td>3</td>\n",
       "      <td>1049</td>\n",
       "      <td>50</td>\n",
       "      <td>My favorite buy!</td>\n",
       "      <td>I love, love, love this jumpsuit. it's fun, fl...</td>\n",
       "      <td>5</td>\n",
       "      <td>1</td>\n",
       "      <td>0</td>\n",
       "      <td>General Petite</td>\n",
       "      <td>Bottoms</td>\n",
       "      <td>Pants</td>\n",
       "    </tr>\n",
       "    <tr>\n",
       "      <th>4</th>\n",
       "      <td>4</td>\n",
       "      <td>847</td>\n",
       "      <td>47</td>\n",
       "      <td>Flattering shirt</td>\n",
       "      <td>This shirt is very flattering to all due to th...</td>\n",
       "      <td>5</td>\n",
       "      <td>1</td>\n",
       "      <td>6</td>\n",
       "      <td>General</td>\n",
       "      <td>Tops</td>\n",
       "      <td>Blouses</td>\n",
       "    </tr>\n",
       "  </tbody>\n",
       "</table>\n",
       "</div>"
      ],
      "text/plain": [
       "   Unnamed: 0  Clothing ID  Age                    Title  \\\n",
       "0           0          767   33                      NaN   \n",
       "1           1         1080   34                      NaN   \n",
       "2           2         1077   60  Some major design flaws   \n",
       "3           3         1049   50         My favorite buy!   \n",
       "4           4          847   47         Flattering shirt   \n",
       "\n",
       "                                         Review Text  Rating  Recommended IND  \\\n",
       "0  Absolutely wonderful - silky and sexy and comf...       4                1   \n",
       "1  Love this dress!  it's sooo pretty.  i happene...       5                1   \n",
       "2  I had such high hopes for this dress and reall...       3                0   \n",
       "3  I love, love, love this jumpsuit. it's fun, fl...       5                1   \n",
       "4  This shirt is very flattering to all due to th...       5                1   \n",
       "\n",
       "   Positive Feedback Count   Division Name Department Name Class Name  \n",
       "0                        0       Initmates        Intimate  Intimates  \n",
       "1                        4         General         Dresses    Dresses  \n",
       "2                        0         General         Dresses    Dresses  \n",
       "3                        0  General Petite         Bottoms      Pants  \n",
       "4                        6         General            Tops    Blouses  "
      ]
     },
     "execution_count": 2,
     "metadata": {},
     "output_type": "execute_result"
    }
   ],
   "source": [
    "df = pd.read_csv('Womens_Clothing_E_Commerce_Reviews.csv')\n",
    "df.head(5)"
   ]
  },
  {
   "cell_type": "code",
   "execution_count": 3,
   "metadata": {},
   "outputs": [
    {
     "data": {
      "text/plain": [
       "(23486, 9)"
      ]
     },
     "execution_count": 3,
     "metadata": {},
     "output_type": "execute_result"
    }
   ],
   "source": [
    "df.drop(['Unnamed: 0','Clothing ID'],axis=1,inplace=True)\n",
    "df.reset_index(inplace=True)\n",
    "df.drop('index',axis=1,inplace=True)\n",
    "df.shape"
   ]
  },
  {
   "cell_type": "code",
   "execution_count": 4,
   "metadata": {},
   "outputs": [
    {
     "data": {
      "text/html": [
       "<div>\n",
       "<style scoped>\n",
       "    .dataframe tbody tr th:only-of-type {\n",
       "        vertical-align: middle;\n",
       "    }\n",
       "\n",
       "    .dataframe tbody tr th {\n",
       "        vertical-align: top;\n",
       "    }\n",
       "\n",
       "    .dataframe thead th {\n",
       "        text-align: right;\n",
       "    }\n",
       "</style>\n",
       "<table border=\"1\" class=\"dataframe\">\n",
       "  <thead>\n",
       "    <tr style=\"text-align: right;\">\n",
       "      <th></th>\n",
       "      <th>Age</th>\n",
       "      <th>Title</th>\n",
       "      <th>Review Text</th>\n",
       "      <th>Rating</th>\n",
       "      <th>Recommended IND</th>\n",
       "      <th>Positive Feedback Count</th>\n",
       "      <th>Division Name</th>\n",
       "      <th>Department Name</th>\n",
       "      <th>Class Name</th>\n",
       "    </tr>\n",
       "  </thead>\n",
       "  <tbody>\n",
       "    <tr>\n",
       "      <th>0</th>\n",
       "      <td>33</td>\n",
       "      <td>NaN</td>\n",
       "      <td>Absolutely wonderful - silky and sexy and comf...</td>\n",
       "      <td>4</td>\n",
       "      <td>1</td>\n",
       "      <td>0</td>\n",
       "      <td>Initmates</td>\n",
       "      <td>Intimate</td>\n",
       "      <td>Intimates</td>\n",
       "    </tr>\n",
       "    <tr>\n",
       "      <th>1</th>\n",
       "      <td>34</td>\n",
       "      <td>NaN</td>\n",
       "      <td>Love this dress!  it's sooo pretty.  i happene...</td>\n",
       "      <td>5</td>\n",
       "      <td>1</td>\n",
       "      <td>4</td>\n",
       "      <td>General</td>\n",
       "      <td>Dresses</td>\n",
       "      <td>Dresses</td>\n",
       "    </tr>\n",
       "    <tr>\n",
       "      <th>2</th>\n",
       "      <td>60</td>\n",
       "      <td>Some major design flaws</td>\n",
       "      <td>I had such high hopes for this dress and reall...</td>\n",
       "      <td>3</td>\n",
       "      <td>0</td>\n",
       "      <td>0</td>\n",
       "      <td>General</td>\n",
       "      <td>Dresses</td>\n",
       "      <td>Dresses</td>\n",
       "    </tr>\n",
       "    <tr>\n",
       "      <th>3</th>\n",
       "      <td>50</td>\n",
       "      <td>My favorite buy!</td>\n",
       "      <td>I love, love, love this jumpsuit. it's fun, fl...</td>\n",
       "      <td>5</td>\n",
       "      <td>1</td>\n",
       "      <td>0</td>\n",
       "      <td>General Petite</td>\n",
       "      <td>Bottoms</td>\n",
       "      <td>Pants</td>\n",
       "    </tr>\n",
       "    <tr>\n",
       "      <th>4</th>\n",
       "      <td>47</td>\n",
       "      <td>Flattering shirt</td>\n",
       "      <td>This shirt is very flattering to all due to th...</td>\n",
       "      <td>5</td>\n",
       "      <td>1</td>\n",
       "      <td>6</td>\n",
       "      <td>General</td>\n",
       "      <td>Tops</td>\n",
       "      <td>Blouses</td>\n",
       "    </tr>\n",
       "  </tbody>\n",
       "</table>\n",
       "</div>"
      ],
      "text/plain": [
       "   Age                    Title  \\\n",
       "0   33                      NaN   \n",
       "1   34                      NaN   \n",
       "2   60  Some major design flaws   \n",
       "3   50         My favorite buy!   \n",
       "4   47         Flattering shirt   \n",
       "\n",
       "                                         Review Text  Rating  Recommended IND  \\\n",
       "0  Absolutely wonderful - silky and sexy and comf...       4                1   \n",
       "1  Love this dress!  it's sooo pretty.  i happene...       5                1   \n",
       "2  I had such high hopes for this dress and reall...       3                0   \n",
       "3  I love, love, love this jumpsuit. it's fun, fl...       5                1   \n",
       "4  This shirt is very flattering to all due to th...       5                1   \n",
       "\n",
       "   Positive Feedback Count   Division Name Department Name Class Name  \n",
       "0                        0       Initmates        Intimate  Intimates  \n",
       "1                        4         General         Dresses    Dresses  \n",
       "2                        0         General         Dresses    Dresses  \n",
       "3                        0  General Petite         Bottoms      Pants  \n",
       "4                        6         General            Tops    Blouses  "
      ]
     },
     "execution_count": 4,
     "metadata": {},
     "output_type": "execute_result"
    }
   ],
   "source": [
    "df.dropna(subset=['Review Text'],inplace=True)\n",
    "df.reset_index(inplace=True)\n",
    "df.drop('index',axis=1,inplace=True)\n",
    "df.head(5)"
   ]
  },
  {
   "cell_type": "code",
   "execution_count": 5,
   "metadata": {},
   "outputs": [
    {
     "data": {
      "text/plain": [
       "(22641, 9)"
      ]
     },
     "execution_count": 5,
     "metadata": {},
     "output_type": "execute_result"
    }
   ],
   "source": [
    "df.shape"
   ]
  },
  {
   "cell_type": "code",
   "execution_count": 5,
   "metadata": {},
   "outputs": [
    {
     "data": {
      "text/html": [
       "<div>\n",
       "<style scoped>\n",
       "    .dataframe tbody tr th:only-of-type {\n",
       "        vertical-align: middle;\n",
       "    }\n",
       "\n",
       "    .dataframe tbody tr th {\n",
       "        vertical-align: top;\n",
       "    }\n",
       "\n",
       "    .dataframe thead th {\n",
       "        text-align: right;\n",
       "    }\n",
       "</style>\n",
       "<table border=\"1\" class=\"dataframe\">\n",
       "  <thead>\n",
       "    <tr style=\"text-align: right;\">\n",
       "      <th></th>\n",
       "      <th>Age</th>\n",
       "      <th>Title</th>\n",
       "      <th>Review Text</th>\n",
       "      <th>Rating</th>\n",
       "      <th>Recommended IND</th>\n",
       "      <th>Positive Feedback Count</th>\n",
       "      <th>Division Name</th>\n",
       "      <th>Department Name</th>\n",
       "      <th>Class Name</th>\n",
       "      <th>Category</th>\n",
       "    </tr>\n",
       "  </thead>\n",
       "  <tbody>\n",
       "    <tr>\n",
       "      <th>0</th>\n",
       "      <td>33</td>\n",
       "      <td>NaN</td>\n",
       "      <td>Absolutely wonderful - silky and sexy and comf...</td>\n",
       "      <td>4</td>\n",
       "      <td>1</td>\n",
       "      <td>0</td>\n",
       "      <td>Initmates</td>\n",
       "      <td>Intimate</td>\n",
       "      <td>Intimates</td>\n",
       "      <td>Good</td>\n",
       "    </tr>\n",
       "    <tr>\n",
       "      <th>1</th>\n",
       "      <td>34</td>\n",
       "      <td>NaN</td>\n",
       "      <td>Love this dress!  it's sooo pretty.  i happene...</td>\n",
       "      <td>5</td>\n",
       "      <td>1</td>\n",
       "      <td>4</td>\n",
       "      <td>General</td>\n",
       "      <td>Dresses</td>\n",
       "      <td>Dresses</td>\n",
       "      <td>Good</td>\n",
       "    </tr>\n",
       "    <tr>\n",
       "      <th>2</th>\n",
       "      <td>60</td>\n",
       "      <td>Some major design flaws</td>\n",
       "      <td>I had such high hopes for this dress and reall...</td>\n",
       "      <td>3</td>\n",
       "      <td>0</td>\n",
       "      <td>0</td>\n",
       "      <td>General</td>\n",
       "      <td>Dresses</td>\n",
       "      <td>Dresses</td>\n",
       "      <td>Bad</td>\n",
       "    </tr>\n",
       "    <tr>\n",
       "      <th>3</th>\n",
       "      <td>50</td>\n",
       "      <td>My favorite buy!</td>\n",
       "      <td>I love, love, love this jumpsuit. it's fun, fl...</td>\n",
       "      <td>5</td>\n",
       "      <td>1</td>\n",
       "      <td>0</td>\n",
       "      <td>General Petite</td>\n",
       "      <td>Bottoms</td>\n",
       "      <td>Pants</td>\n",
       "      <td>Good</td>\n",
       "    </tr>\n",
       "    <tr>\n",
       "      <th>4</th>\n",
       "      <td>47</td>\n",
       "      <td>Flattering shirt</td>\n",
       "      <td>This shirt is very flattering to all due to th...</td>\n",
       "      <td>5</td>\n",
       "      <td>1</td>\n",
       "      <td>6</td>\n",
       "      <td>General</td>\n",
       "      <td>Tops</td>\n",
       "      <td>Blouses</td>\n",
       "      <td>Good</td>\n",
       "    </tr>\n",
       "  </tbody>\n",
       "</table>\n",
       "</div>"
      ],
      "text/plain": [
       "   Age                    Title  \\\n",
       "0   33                      NaN   \n",
       "1   34                      NaN   \n",
       "2   60  Some major design flaws   \n",
       "3   50         My favorite buy!   \n",
       "4   47         Flattering shirt   \n",
       "\n",
       "                                         Review Text  Rating  Recommended IND  \\\n",
       "0  Absolutely wonderful - silky and sexy and comf...       4                1   \n",
       "1  Love this dress!  it's sooo pretty.  i happene...       5                1   \n",
       "2  I had such high hopes for this dress and reall...       3                0   \n",
       "3  I love, love, love this jumpsuit. it's fun, fl...       5                1   \n",
       "4  This shirt is very flattering to all due to th...       5                1   \n",
       "\n",
       "   Positive Feedback Count   Division Name Department Name Class Name Category  \n",
       "0                        0       Initmates        Intimate  Intimates     Good  \n",
       "1                        4         General         Dresses    Dresses     Good  \n",
       "2                        0         General         Dresses    Dresses      Bad  \n",
       "3                        0  General Petite         Bottoms      Pants     Good  \n",
       "4                        6         General            Tops    Blouses     Good  "
      ]
     },
     "execution_count": 5,
     "metadata": {},
     "output_type": "execute_result"
    }
   ],
   "source": [
    "df['Category']='Bad'\n",
    "df.loc[df['Rating']>3,['Category']]='Good'\n",
    "df.head(5)"
   ]
  },
  {
   "cell_type": "markdown",
   "metadata": {},
   "source": [
    "<h2>Data Visualisation</h2>"
   ]
  },
  {
   "cell_type": "code",
   "execution_count": 9,
   "metadata": {},
   "outputs": [
    {
     "data": {
      "image/png": "[encoded data removed]",
      "text/plain": [
       "<Figure size 720x720 with 1 Axes>"
      ]
     },
     "metadata": {
      "needs_background": "light"
     },
     "output_type": "display_data"
    }
   ],
   "source": [
    "# 1. to find the correlation between review length and rating\n",
    "df['Review Text']=df['Review Text'].astype(str)\n",
    "df['Review Length']=df['Review Text'].apply(len)\n",
    "plt.figure(figsize=(10,10))\n",
    "vis1=sns.boxenplot(x='Rating', y='Review Length', data=df)\n",
    "\n"
   ]
  },
  {
   "cell_type": "markdown",
   "metadata": {},
   "source": [
    "review length tends to increase as the rating increases and rating 3,4 has more Length compare to others"
   ]
  },
  {
   "cell_type": "code",
   "execution_count": 12,
   "metadata": {},
   "outputs": [
    {
     "data": {
      "image/png": "[encoded data removed]",
      "text/plain": [
       "<Figure size 864x576 with 1 Axes>"
      ]
     },
     "metadata": {},
     "output_type": "display_data"
    }
   ],
   "source": [
    "NAR = [df.Age[(df['Age']<=20)].count(),df.Age[(df['Age']>20) & (df['Age']<=40)].count(),\n",
    "        df.Age[(df['Age']>40) & (df['Age']<=60)].count(),df.Age[(df['Age']>60) & (df['Age']<=80)].count(),\n",
    "       df.Age[(df['Age']>80)].count()]\n",
    "       \n",
    "\n",
    "AR = ['Age 0-20','Age 20-40','Age 40-60','Age 60-80','Age 80+']\n",
    "\n",
    "plt.figure(figsize=(12,8))\n",
    "\n",
    "plt.pie(NAR, labels=AR, autopct='%.2f%%')\n",
    "plt.title(\"Counts Vs Age\")\n",
    "plt.show()"
   ]
  },
  {
   "cell_type": "code",
   "execution_count": 13,
   "metadata": {},
   "outputs": [
    {
     "data": {
      "image/png": "[encoded data removed]",
      "text/plain": [
       "<Figure size 1152x288 with 3 Axes>"
      ]
     },
     "metadata": {
      "needs_background": "light"
     },
     "output_type": "display_data"
    }
   ],
   "source": [
    "f, axes = plt.subplots(1,3, figsize=(16,4))\n",
    "\n",
    "p_df = df[\"Age\"]\n",
    "for i,y in enumerate([\"Rating\",\"Department Name\",\"Recommended IND\"]):\n",
    "    for x in set(df[y][df[y].notnull()]):\n",
    "        sns.kdeplot(p_df[df[y]==x], label=x, shade=False, ax=axes[i])\n",
    "    axes[i].set_xlabel(\"Age\")\n",
    "    axes[i].set_label('Occurrence Density')\n",
    "    axes[i].set_title('Age Distribution by {}'.format(y))\n",
    "\n",
    "axes[0].set_ylabel('Occurrence Density')\n",
    "plt.show()"
   ]
  },
  {
   "cell_type": "code",
   "execution_count": 14,
   "metadata": {},
   "outputs": [
    {
     "data": {
      "image/png": "[encoded data removed]",
      "text/plain": [
       "<Figure size 864x432 with 1 Axes>"
      ]
     },
     "metadata": {
      "needs_background": "light"
     },
     "output_type": "display_data"
    }
   ],
   "source": [
    "plt.figure(figsize=(12,6))\n",
    "plt.title(\"Age distribution by CLass\")\n",
    "for x in set(df[\"Class Name\"][df[\"Class Name\"].notnull()]):\n",
    "    sns.kdeplot(p_df[df[\"Class Name\"]==x], label=x, shade=True,legend=True)"
   ]
  },
  {
   "cell_type": "code",
   "execution_count": null,
   "metadata": {},
   "outputs": [],
   "source": []
  },
  {
   "cell_type": "code",
   "execution_count": 7,
   "metadata": {},
   "outputs": [
    {
     "data": {
      "text/plain": [
       "Text(0, 0.5, 'Rating Counts')"
      ]
     },
     "execution_count": 7,
     "metadata": {},
     "output_type": "execute_result"
    },
    {
     "data": {
      "image/png": "[encoded data removed]",
      "text/plain": [
       "<Figure size 432x288 with 1 Axes>"
      ]
     },
     "metadata": {
      "needs_background": "light"
     },
     "output_type": "display_data"
    }
   ],
   "source": [
    "# For ratings\n",
    "ax = sns.distplot(df['Rating'],kde=False)\n",
    "ax.set_ylabel('Rating Counts')"
   ]
  },
  {
   "cell_type": "markdown",
   "metadata": {},
   "source": [
    "Most ratings have been for 4.0 and above with most customers rating products as 5.0"
   ]
  },
  {
   "cell_type": "code",
   "execution_count": 8,
   "metadata": {},
   "outputs": [
    {
     "data": {
      "text/plain": [
       "<matplotlib.axes._subplots.AxesSubplot at 0x3b034eb508>"
      ]
     },
     "execution_count": 8,
     "metadata": {},
     "output_type": "execute_result"
    },
    {
     "data": {
      "image/png": "[encoded data removed]",
      "text/plain": [
       "<Figure size 432x288 with 1 Axes>"
      ]
     },
     "metadata": {
      "needs_background": "light"
     },
     "output_type": "display_data"
    }
   ],
   "source": [
    "# Category comparisons\n",
    "sns.countplot(x='Category',data=df)"
   ]
  },
  {
   "cell_type": "markdown",
   "metadata": {},
   "source": [
    "Clearly number of Good reviews in the dataset is way greater than Bad reviews making it imbalanced."
   ]
  },
  {
   "cell_type": "code",
   "execution_count": 9,
   "metadata": {},
   "outputs": [
    {
     "data": {
      "image/png": "[encoded data removed]",
      "text/plain": [
       "<Figure size 432x288 with 1 Axes>"
      ]
     },
     "metadata": {
      "needs_background": "light"
     },
     "output_type": "display_data"
    },
    {
     "data": {
      "image/png": "[encoded data removed]",
      "text/plain": [
       "<Figure size 422.125x360 with 1 Axes>"
      ]
     },
     "metadata": {
      "needs_background": "light"
     },
     "output_type": "display_data"
    }
   ],
   "source": [
    "# Age group which gives more reviews and also what kind of reviews\n",
    "\n",
    "ax=sns.distplot(df['Age'],color='green')\n",
    "ax.set_title('Age Distribution')\n",
    "\n",
    "df_gb = df.groupby(['Category','Age']).count()\n",
    "df_gb.reset_index(inplace=True)\n",
    "ax=sns.lmplot(x='Age',y='Title',data=df_gb,hue='Category')\n",
    "plt.tight_layout()\n",
    "plt.show()"
   ]
  },
  {
   "cell_type": "code",
   "execution_count": 10,
   "metadata": {},
   "outputs": [
    {
     "data": {
      "image/png": "[encoded data removed]",
      "text/plain": [
       "<Figure size 720x720 with 1 Axes>"
      ]
     },
     "metadata": {
      "needs_background": "light"
     },
     "output_type": "display_data"
    }
   ],
   "source": [
    "#Sentiment Analysis\n",
    "\n",
    "from textblob import TextBlob\n",
    "\n",
    "list_desc = list()\n",
    "\n",
    "df_review_str=df['Review Text'].astype(str)\n",
    "\n",
    "for row in df_review_str:\n",
    "    blob = TextBlob(row)\n",
    "    list_desc.append((row,blob.sentiment.polarity, blob.sentiment.subjectivity))\n",
    "    \n",
    "    df_polarity = pd.DataFrame(list_desc, columns = ['Review','sentiment','polarity'])\n",
    " \n",
    "def function_for_sentiment_analysis(df_polarity):\n",
    "    if df_polarity['sentiment'] > 0:\n",
    "        val = \"Positive Review\"\n",
    "    elif df_polarity['sentiment'] == 0:\n",
    "        val = \"Neutral Review\"\n",
    "    else:\n",
    "        val = \"Negative Review\"\n",
    "    return val\n",
    "\n",
    "df_polarity['Sentiment_Type'] = df_polarity.apply(function_for_sentiment_analysis, axis=1)\n",
    "\n",
    "plt.figure(figsize=(10,10))\n",
    "\n",
    "ax = sns.countplot(x=\"Sentiment_Type\", data=df_polarity)"
   ]
  },
  {
   "cell_type": "code",
   "execution_count": 10,
   "metadata": {},
   "outputs": [
    {
     "data": {
      "text/plain": [
       "(22641, 10)"
      ]
     },
     "execution_count": 10,
     "metadata": {},
     "output_type": "execute_result"
    }
   ],
   "source": [
    "df.shape"
   ]
  },
  {
   "cell_type": "markdown",
   "metadata": {},
   "source": [
    "From above two plots it can be seen that most reviews are from customers of age group 30-50 years of age and most of them are good reviews"
   ]
  },
  {
   "cell_type": "markdown",
   "metadata": {},
   "source": [
    "<h1>Data Preparation for Model Training</h1>"
   ]
  },
  {
   "cell_type": "code",
   "execution_count": 6,
   "metadata": {},
   "outputs": [
    {
     "name": "stderr",
     "output_type": "stream",
     "text": [
      "[nltk_data] Downloading package wordnet to\n",
      "[nltk_data]     C:\\Users\\Dell\\AppData\\Roaming\\nltk_data...\n",
      "[nltk_data]   Package wordnet is already up-to-date!\n",
      "[nltk_data] Downloading package stopwords to\n",
      "[nltk_data]     C:\\Users\\Dell\\AppData\\Roaming\\nltk_data...\n",
      "[nltk_data]   Package stopwords is already up-to-date!\n"
     ]
    },
    {
     "data": {
      "text/plain": [
       "True"
      ]
     },
     "execution_count": 6,
     "metadata": {},
     "output_type": "execute_result"
    }
   ],
   "source": [
    "# Improving Format of Review Text using nltk\n",
    "import string\n",
    "from nltk.corpus import stopwords \n",
    "from nltk.stem import WordNetLemmatizer as wnl\n",
    "from nltk.tokenize import RegexpTokenizer as ret\n",
    "import nltk\n",
    "nltk.download('wordnet')\n",
    "nltk.download('stopwords')"
   ]
  },
  {
   "cell_type": "code",
   "execution_count": 7,
   "metadata": {},
   "outputs": [
    {
     "data": {
      "text/plain": [
       "0    [absolutely, wonderful, silky, and, sexy, and,...\n",
       "1    [love, this, dress, it, s, sooo, pretty, i, ha...\n",
       "2    [i, had, such, high, hopes, for, this, dress, ...\n",
       "3    [i, love, love, love, this, jumpsuit, it, s, f...\n",
       "4    [this, shirt, is, very, flattering, to, all, d...\n",
       "5    [i, love, tracy, reese, dresses, but, this, on...\n",
       "6    [i, aded, this, in, my, basket, at, hte, last,...\n",
       "7    [i, ordered, this, in, carbon, for, store, pic...\n",
       "8    [i, love, this, dress, i, usually, get, an, xs...\n",
       "9    [i, m, 5, 5, and, 125, lbs, i, ordered, the, s...\n",
       "Name: Review Text, dtype: object"
      ]
     },
     "execution_count": 7,
     "metadata": {},
     "output_type": "execute_result"
    }
   ],
   "source": [
    "# Remove punctuatuions and lower words.\n",
    "tokenizer = ret(r'\\w+')\n",
    "df['Review Text']= df['Review Text'].apply(lambda x : tokenizer.tokenize(x.lower()))\n",
    "df['Review Text'].head(10)"
   ]
  },
  {
   "cell_type": "code",
   "execution_count": 8,
   "metadata": {},
   "outputs": [
    {
     "data": {
      "text/html": [
       "<div>\n",
       "<style scoped>\n",
       "    .dataframe tbody tr th:only-of-type {\n",
       "        vertical-align: middle;\n",
       "    }\n",
       "\n",
       "    .dataframe tbody tr th {\n",
       "        vertical-align: top;\n",
       "    }\n",
       "\n",
       "    .dataframe thead th {\n",
       "        text-align: right;\n",
       "    }\n",
       "</style>\n",
       "<table border=\"1\" class=\"dataframe\">\n",
       "  <thead>\n",
       "    <tr style=\"text-align: right;\">\n",
       "      <th></th>\n",
       "      <th>Age</th>\n",
       "      <th>Title</th>\n",
       "      <th>Review Text</th>\n",
       "      <th>Rating</th>\n",
       "      <th>Recommended IND</th>\n",
       "      <th>Positive Feedback Count</th>\n",
       "      <th>Division Name</th>\n",
       "      <th>Department Name</th>\n",
       "      <th>Class Name</th>\n",
       "      <th>Category</th>\n",
       "    </tr>\n",
       "  </thead>\n",
       "  <tbody>\n",
       "    <tr>\n",
       "      <th>0</th>\n",
       "      <td>33</td>\n",
       "      <td>NaN</td>\n",
       "      <td>absolutely wonderful silky sexy comfortable</td>\n",
       "      <td>4</td>\n",
       "      <td>1</td>\n",
       "      <td>0</td>\n",
       "      <td>Initmates</td>\n",
       "      <td>Intimate</td>\n",
       "      <td>Intimates</td>\n",
       "      <td>Good</td>\n",
       "    </tr>\n",
       "    <tr>\n",
       "      <th>1</th>\n",
       "      <td>34</td>\n",
       "      <td>NaN</td>\n",
       "      <td>love dress sooo pretty happened find store gla...</td>\n",
       "      <td>5</td>\n",
       "      <td>1</td>\n",
       "      <td>4</td>\n",
       "      <td>General</td>\n",
       "      <td>Dresses</td>\n",
       "      <td>Dresses</td>\n",
       "      <td>Good</td>\n",
       "    </tr>\n",
       "    <tr>\n",
       "      <th>2</th>\n",
       "      <td>60</td>\n",
       "      <td>Some major design flaws</td>\n",
       "      <td>high hope dress really wanted work initially o...</td>\n",
       "      <td>3</td>\n",
       "      <td>0</td>\n",
       "      <td>0</td>\n",
       "      <td>General</td>\n",
       "      <td>Dresses</td>\n",
       "      <td>Dresses</td>\n",
       "      <td>Bad</td>\n",
       "    </tr>\n",
       "    <tr>\n",
       "      <th>3</th>\n",
       "      <td>50</td>\n",
       "      <td>My favorite buy!</td>\n",
       "      <td>love love love jumpsuit fun flirty fabulous ev...</td>\n",
       "      <td>5</td>\n",
       "      <td>1</td>\n",
       "      <td>0</td>\n",
       "      <td>General Petite</td>\n",
       "      <td>Bottoms</td>\n",
       "      <td>Pants</td>\n",
       "      <td>Good</td>\n",
       "    </tr>\n",
       "    <tr>\n",
       "      <th>4</th>\n",
       "      <td>47</td>\n",
       "      <td>Flattering shirt</td>\n",
       "      <td>shirt flattering due adjustable front tie perf...</td>\n",
       "      <td>5</td>\n",
       "      <td>1</td>\n",
       "      <td>6</td>\n",
       "      <td>General</td>\n",
       "      <td>Tops</td>\n",
       "      <td>Blouses</td>\n",
       "      <td>Good</td>\n",
       "    </tr>\n",
       "  </tbody>\n",
       "</table>\n",
       "</div>"
      ],
      "text/plain": [
       "   Age                    Title  \\\n",
       "0   33                      NaN   \n",
       "1   34                      NaN   \n",
       "2   60  Some major design flaws   \n",
       "3   50         My favorite buy!   \n",
       "4   47         Flattering shirt   \n",
       "\n",
       "                                         Review Text  Rating  Recommended IND  \\\n",
       "0        absolutely wonderful silky sexy comfortable       4                1   \n",
       "1  love dress sooo pretty happened find store gla...       5                1   \n",
       "2  high hope dress really wanted work initially o...       3                0   \n",
       "3  love love love jumpsuit fun flirty fabulous ev...       5                1   \n",
       "4  shirt flattering due adjustable front tie perf...       5                1   \n",
       "\n",
       "   Positive Feedback Count   Division Name Department Name Class Name Category  \n",
       "0                        0       Initmates        Intimate  Intimates     Good  \n",
       "1                        4         General         Dresses    Dresses     Good  \n",
       "2                        0         General         Dresses    Dresses      Bad  \n",
       "3                        0  General Petite         Bottoms      Pants     Good  \n",
       "4                        6         General            Tops    Blouses     Good  "
      ]
     },
     "execution_count": 8,
     "metadata": {},
     "output_type": "execute_result"
    }
   ],
   "source": [
    "#remove stopwords\n",
    "def rem_stopwords(text) :\n",
    "    word=[w for w in text if w not in stopwords.words('english')]\n",
    "    return word\n",
    "df['Review Text']= df['Review Text'].apply(lambda x : rem_stopwords(x))\n",
    "\n",
    "lemmatizer=wnl()\n",
    "def lemm(text) : \n",
    "    lt=[lemmatizer.lemmatize(i) for i in text]\n",
    "    return lt\n",
    "df['Review Text']=df['Review Text'].apply(lambda x : lemm(x))\n",
    "\n",
    "# Remove numbers\n",
    "def rem_digit(text) :\n",
    "    output = ' '.join(c for c in text if not c.isdigit())\n",
    "    return output\n",
    "df['Review Text']=df['Review Text'].apply(lambda x : rem_digit(x))\n",
    "\n",
    "df.head(5)"
   ]
  },
  {
   "cell_type": "code",
   "execution_count": 14,
   "metadata": {},
   "outputs": [
    {
     "data": {
      "text/html": [
       "<div>\n",
       "<style scoped>\n",
       "    .dataframe tbody tr th:only-of-type {\n",
       "        vertical-align: middle;\n",
       "    }\n",
       "\n",
       "    .dataframe tbody tr th {\n",
       "        vertical-align: top;\n",
       "    }\n",
       "\n",
       "    .dataframe thead th {\n",
       "        text-align: right;\n",
       "    }\n",
       "</style>\n",
       "<table border=\"1\" class=\"dataframe\">\n",
       "  <thead>\n",
       "    <tr style=\"text-align: right;\">\n",
       "      <th></th>\n",
       "      <th>Age</th>\n",
       "      <th>Title</th>\n",
       "      <th>Review Text</th>\n",
       "      <th>Rating</th>\n",
       "      <th>Recommended IND</th>\n",
       "      <th>Positive Feedback Count</th>\n",
       "      <th>Division Name</th>\n",
       "      <th>Department Name</th>\n",
       "      <th>Class Name</th>\n",
       "      <th>Category</th>\n",
       "    </tr>\n",
       "  </thead>\n",
       "  <tbody>\n",
       "    <tr>\n",
       "      <th>0</th>\n",
       "      <td>33</td>\n",
       "      <td>NaN</td>\n",
       "      <td>absolutely wonderful silky sexy comfortable</td>\n",
       "      <td>4</td>\n",
       "      <td>1</td>\n",
       "      <td>0</td>\n",
       "      <td>Initmates</td>\n",
       "      <td>Intimate</td>\n",
       "      <td>Intimates</td>\n",
       "      <td>Good</td>\n",
       "    </tr>\n",
       "    <tr>\n",
       "      <th>1</th>\n",
       "      <td>34</td>\n",
       "      <td>NaN</td>\n",
       "      <td>love dress sooo pretty happened find store gla...</td>\n",
       "      <td>5</td>\n",
       "      <td>1</td>\n",
       "      <td>4</td>\n",
       "      <td>General</td>\n",
       "      <td>Dresses</td>\n",
       "      <td>Dresses</td>\n",
       "      <td>Good</td>\n",
       "    </tr>\n",
       "    <tr>\n",
       "      <th>2</th>\n",
       "      <td>60</td>\n",
       "      <td>Some major design flaws</td>\n",
       "      <td>high hope dress really wanted work initially o...</td>\n",
       "      <td>3</td>\n",
       "      <td>0</td>\n",
       "      <td>0</td>\n",
       "      <td>General</td>\n",
       "      <td>Dresses</td>\n",
       "      <td>Dresses</td>\n",
       "      <td>Bad</td>\n",
       "    </tr>\n",
       "    <tr>\n",
       "      <th>3</th>\n",
       "      <td>50</td>\n",
       "      <td>My favorite buy!</td>\n",
       "      <td>love love love jumpsuit fun flirty fabulous ev...</td>\n",
       "      <td>5</td>\n",
       "      <td>1</td>\n",
       "      <td>0</td>\n",
       "      <td>General Petite</td>\n",
       "      <td>Bottoms</td>\n",
       "      <td>Pants</td>\n",
       "      <td>Good</td>\n",
       "    </tr>\n",
       "    <tr>\n",
       "      <th>4</th>\n",
       "      <td>47</td>\n",
       "      <td>Flattering shirt</td>\n",
       "      <td>shirt flattering due adjustable front tie perf...</td>\n",
       "      <td>5</td>\n",
       "      <td>1</td>\n",
       "      <td>6</td>\n",
       "      <td>General</td>\n",
       "      <td>Tops</td>\n",
       "      <td>Blouses</td>\n",
       "      <td>Good</td>\n",
       "    </tr>\n",
       "  </tbody>\n",
       "</table>\n",
       "</div>"
      ],
      "text/plain": [
       "   Age                    Title  \\\n",
       "0   33                      NaN   \n",
       "1   34                      NaN   \n",
       "2   60  Some major design flaws   \n",
       "3   50         My favorite buy!   \n",
       "4   47         Flattering shirt   \n",
       "\n",
       "                                         Review Text  Rating  Recommended IND  \\\n",
       "0        absolutely wonderful silky sexy comfortable       4                1   \n",
       "1  love dress sooo pretty happened find store gla...       5                1   \n",
       "2  high hope dress really wanted work initially o...       3                0   \n",
       "3  love love love jumpsuit fun flirty fabulous ev...       5                1   \n",
       "4  shirt flattering due adjustable front tie perf...       5                1   \n",
       "\n",
       "   Positive Feedback Count   Division Name Department Name Class Name Category  \n",
       "0                        0       Initmates        Intimate  Intimates     Good  \n",
       "1                        4         General         Dresses    Dresses     Good  \n",
       "2                        0         General         Dresses    Dresses      Bad  \n",
       "3                        0  General Petite         Bottoms      Pants     Good  \n",
       "4                        6         General            Tops    Blouses     Good  "
      ]
     },
     "execution_count": 14,
     "metadata": {},
     "output_type": "execute_result"
    }
   ],
   "source": [
    "df1 = df.copy()\n",
    "df1.head()"
   ]
  },
  {
   "cell_type": "code",
   "execution_count": 9,
   "metadata": {},
   "outputs": [
    {
     "data": {
      "text/html": [
       "<div>\n",
       "<style scoped>\n",
       "    .dataframe tbody tr th:only-of-type {\n",
       "        vertical-align: middle;\n",
       "    }\n",
       "\n",
       "    .dataframe tbody tr th {\n",
       "        vertical-align: top;\n",
       "    }\n",
       "\n",
       "    .dataframe thead th {\n",
       "        text-align: right;\n",
       "    }\n",
       "</style>\n",
       "<table border=\"1\" class=\"dataframe\">\n",
       "  <thead>\n",
       "    <tr style=\"text-align: right;\">\n",
       "      <th></th>\n",
       "      <th>Age</th>\n",
       "      <th>Title</th>\n",
       "      <th>Review Text</th>\n",
       "      <th>Rating</th>\n",
       "      <th>Recommended IND</th>\n",
       "      <th>Positive Feedback Count</th>\n",
       "      <th>Division Name</th>\n",
       "      <th>Department Name</th>\n",
       "      <th>Class Name</th>\n",
       "      <th>Category</th>\n",
       "    </tr>\n",
       "  </thead>\n",
       "  <tbody>\n",
       "    <tr>\n",
       "      <th>0</th>\n",
       "      <td>33</td>\n",
       "      <td>NaN</td>\n",
       "      <td>absolutely wonderful silky sexy comfortable</td>\n",
       "      <td>4</td>\n",
       "      <td>1</td>\n",
       "      <td>0</td>\n",
       "      <td>Initmates</td>\n",
       "      <td>Intimate</td>\n",
       "      <td>Intimates</td>\n",
       "      <td>1</td>\n",
       "    </tr>\n",
       "    <tr>\n",
       "      <th>1</th>\n",
       "      <td>34</td>\n",
       "      <td>NaN</td>\n",
       "      <td>love dress sooo pretty happened find store gla...</td>\n",
       "      <td>5</td>\n",
       "      <td>1</td>\n",
       "      <td>4</td>\n",
       "      <td>General</td>\n",
       "      <td>Dresses</td>\n",
       "      <td>Dresses</td>\n",
       "      <td>1</td>\n",
       "    </tr>\n",
       "    <tr>\n",
       "      <th>2</th>\n",
       "      <td>60</td>\n",
       "      <td>Some major design flaws</td>\n",
       "      <td>high hope dress really wanted work initially o...</td>\n",
       "      <td>3</td>\n",
       "      <td>0</td>\n",
       "      <td>0</td>\n",
       "      <td>General</td>\n",
       "      <td>Dresses</td>\n",
       "      <td>Dresses</td>\n",
       "      <td>0</td>\n",
       "    </tr>\n",
       "    <tr>\n",
       "      <th>3</th>\n",
       "      <td>50</td>\n",
       "      <td>My favorite buy!</td>\n",
       "      <td>love love love jumpsuit fun flirty fabulous ev...</td>\n",
       "      <td>5</td>\n",
       "      <td>1</td>\n",
       "      <td>0</td>\n",
       "      <td>General Petite</td>\n",
       "      <td>Bottoms</td>\n",
       "      <td>Pants</td>\n",
       "      <td>1</td>\n",
       "    </tr>\n",
       "    <tr>\n",
       "      <th>4</th>\n",
       "      <td>47</td>\n",
       "      <td>Flattering shirt</td>\n",
       "      <td>shirt flattering due adjustable front tie perf...</td>\n",
       "      <td>5</td>\n",
       "      <td>1</td>\n",
       "      <td>6</td>\n",
       "      <td>General</td>\n",
       "      <td>Tops</td>\n",
       "      <td>Blouses</td>\n",
       "      <td>1</td>\n",
       "    </tr>\n",
       "  </tbody>\n",
       "</table>\n",
       "</div>"
      ],
      "text/plain": [
       "   Age                    Title  \\\n",
       "0   33                      NaN   \n",
       "1   34                      NaN   \n",
       "2   60  Some major design flaws   \n",
       "3   50         My favorite buy!   \n",
       "4   47         Flattering shirt   \n",
       "\n",
       "                                         Review Text  Rating  Recommended IND  \\\n",
       "0        absolutely wonderful silky sexy comfortable       4                1   \n",
       "1  love dress sooo pretty happened find store gla...       5                1   \n",
       "2  high hope dress really wanted work initially o...       3                0   \n",
       "3  love love love jumpsuit fun flirty fabulous ev...       5                1   \n",
       "4  shirt flattering due adjustable front tie perf...       5                1   \n",
       "\n",
       "   Positive Feedback Count   Division Name Department Name Class Name  \\\n",
       "0                        0       Initmates        Intimate  Intimates   \n",
       "1                        4         General         Dresses    Dresses   \n",
       "2                        0         General         Dresses    Dresses   \n",
       "3                        0  General Petite         Bottoms      Pants   \n",
       "4                        6         General            Tops    Blouses   \n",
       "\n",
       "   Category  \n",
       "0         1  \n",
       "1         1  \n",
       "2         0  \n",
       "3         1  \n",
       "4         1  "
      ]
     },
     "execution_count": 9,
     "metadata": {},
     "output_type": "execute_result"
    }
   ],
   "source": [
    "# LabelEncoding on Category\n",
    "from sklearn.preprocessing import LabelEncoder\n",
    "le = LabelEncoder()\n",
    "le.fit(['Good','Bad'])\n",
    "df['Category'] = le.transform(df['Category'])\n",
    "df.head(5)"
   ]
  },
  {
   "cell_type": "code",
   "execution_count": 10,
   "metadata": {},
   "outputs": [],
   "source": [
    "# For train_test_split \n",
    "from sklearn.model_selection import train_test_split\n",
    "X = df[['Review Text','Recommended IND']]\n",
    "y = df['Category']\n",
    "\n",
    "X_train,X_test,y_train,y_test = train_test_split(X,y,test_size=0.2,stratify=y,random_state=1)"
   ]
  },
  {
   "cell_type": "code",
   "execution_count": 17,
   "metadata": {},
   "outputs": [
    {
     "data": {
      "text/plain": [
       "(18112, 2)"
      ]
     },
     "execution_count": 17,
     "metadata": {},
     "output_type": "execute_result"
    }
   ],
   "source": [
    "X_train.shape"
   ]
  },
  {
   "cell_type": "code",
   "execution_count": 18,
   "metadata": {},
   "outputs": [
    {
     "data": {
      "text/plain": [
       "(4529, 2)"
      ]
     },
     "execution_count": 18,
     "metadata": {},
     "output_type": "execute_result"
    }
   ],
   "source": [
    "X_test.shape"
   ]
  },
  {
   "cell_type": "code",
   "execution_count": 11,
   "metadata": {},
   "outputs": [],
   "source": [
    "from sklearn.feature_extraction.text import CountVectorizer,TfidfVectorizer\n",
    "tfv = TfidfVectorizer(max_features=2000,ngram_range=(1,2),analyzer='word')\n",
    "ctv = CountVectorizer(max_features=2000,ngram_range=(1,2),analyzer='word')"
   ]
  },
  {
   "cell_type": "code",
   "execution_count": 12,
   "metadata": {},
   "outputs": [
    {
     "name": "stdout",
     "output_type": "stream",
     "text": [
      "(18112, 2000)\n",
      "(4529, 2000)\n"
     ]
    }
   ],
   "source": [
    "#fitting tfv into train and test dataset\n",
    "tfv.fit(list(X_train['Review Text'])+list(X_test['Review Text']))\n",
    "X_train_tfv = tfv.transform(X_train['Review Text'])\n",
    "X_test_tfv = tfv.transform(X_test['Review Text'])\n",
    "\n",
    "#fitting ctv into train and test dataset\n",
    "ctv.fit(list(X_train['Review Text'])+list(X_test['Review Text']))\n",
    "X_train_ctv = ctv.transform(X_train['Review Text'])\n",
    "X_test_ctv = ctv.transform(X_test['Review Text'])\n",
    "\n",
    "print(X_train_tfv.shape)\n",
    "print(X_test_tfv.shape)\n"
   ]
  },
  {
   "cell_type": "code",
   "execution_count": 13,
   "metadata": {},
   "outputs": [],
   "source": [
    "from scipy.sparse import csr_matrix\n",
    "from scipy.sparse import hstack\n",
    "\n",
    "X_ind_train = csr_matrix(X_train['Recommended IND']).T\n",
    "X_ind_test = csr_matrix(X_test['Recommended IND']).T\n",
    "\n",
    "#print(X_ind_train.shape)\n",
    "#print(X_ind_test.shape)\n",
    "\n",
    "X_train_tfv=hstack((X_ind_train,X_train_tfv))\n",
    "X_test_tfv=hstack((X_ind_test,X_test_tfv))\n",
    "\n",
    "X_train_ctv=hstack((X_ind_train,X_train_ctv))\n",
    "X_test_ctv=hstack((X_ind_test,X_test_ctv))\n",
    "\n"
   ]
  },
  {
   "cell_type": "code",
   "execution_count": 15,
   "metadata": {},
   "outputs": [],
   "source": [
    "from sklearn.metrics import log_loss as lossfunc\n",
    "loss = lossfunc"
   ]
  },
  {
   "cell_type": "markdown",
   "metadata": {},
   "source": [
    "<h1>Model Training</h1>"
   ]
  },
  {
   "cell_type": "code",
   "execution_count": 16,
   "metadata": {},
   "outputs": [],
   "source": [
    "from sklearn.linear_model import LogisticRegression \n",
    "from sklearn.metrics import make_scorer\n",
    "# forming a scorer for GridSearchCV\n",
    "scorer = make_scorer(loss,needs_proba=True)"
   ]
  },
  {
   "cell_type": "code",
   "execution_count": 24,
   "metadata": {},
   "outputs": [],
   "source": [
    "# Using GridSearchCV with clf,scorer to evaluate which is better to use tfv or ctv"
   ]
  },
  {
   "cell_type": "code",
   "execution_count": 17,
   "metadata": {},
   "outputs": [],
   "source": [
    "#initializing GridSearchCV for tfv and ctv\n",
    "from sklearn.model_selection import GridSearchCV\n",
    "params = [{'tol':[0.000001,0.00001,0.0001,0.01],'C':[0.5,1.0,1.5,2.0]}]\n",
    "model_tfv = GridSearchCV(estimator=LogisticRegression(),param_grid=params,scoring=scorer,cv=5)\n",
    "model_ctv = GridSearchCV(estimator=LogisticRegression(),param_grid=params,scoring=scorer,cv=5)"
   ]
  },
  {
   "cell_type": "code",
   "execution_count": 60,
   "metadata": {},
   "outputs": [],
   "source": [
    "# Using ctv vectorized training data\n",
    "model_ctv.fit(X_train_ctv,y_train)\n",
    "best_ctv_train_params = model_ctv.best_params_\n",
    "best_ctv_train_score = model_ctv.best_score_\n",
    "\n",
    "# Using tfv vectorized training data\n",
    "model_tfv.fit(X_train_tfv,y_train)\n",
    "best_tfv_train_params = model_tfv.best_params_\n",
    "best_tfv_train_score = model_tfv.best_score_"
   ]
  },
  {
   "cell_type": "code",
   "execution_count": 47,
   "metadata": {},
   "outputs": [
    {
     "name": "stdout",
     "output_type": "stream",
     "text": [
      "Best Parameters for training data for ctv vectorizer\n",
      "\n",
      "{'C': 2.0, 'tol': 1e-06}\n",
      "\n",
      "Log Loss for training data for ctv vectorizer\n",
      "\n",
      "0.25987515122839555\n"
     ]
    }
   ],
   "source": [
    "print('Best Parameters for training data for ctv vectorizer\\n')\n",
    "print(best_ctv_train_params)\n",
    "print()\n",
    "print('Log Loss for training data for ctv vectorizer\\n')\n",
    "print(best_ctv_train_score)"
   ]
  },
  {
   "cell_type": "code",
   "execution_count": 48,
   "metadata": {},
   "outputs": [
    {
     "name": "stdout",
     "output_type": "stream",
     "text": [
      "Best Parameters for training data for tfv vectorizer\n",
      "\n",
      "{'C': 0.5, 'tol': 1e-06}\n",
      "\n",
      "Log Loss for training data for tfv vectorizer\n",
      "\n",
      "0.19722922995284958\n"
     ]
    }
   ],
   "source": [
    "print('Best Parameters for training data for tfv vectorizer\\n')\n",
    "print(best_tfv_train_params)\n",
    "print()\n",
    "print('Log Loss for training data for tfv vectorizer\\n')\n",
    "print(best_tfv_train_score)"
   ]
  },
  {
   "cell_type": "markdown",
   "metadata": {},
   "source": [
    "Since Log Loss value for Term Frequency Vectorizer is less than that of Count vectorizer, it is better to use TfidfVectorizer"
   ]
  },
  {
   "cell_type": "code",
   "execution_count": 49,
   "metadata": {},
   "outputs": [],
   "source": [
    "# using tfv test dataset to predict results\n",
    "y_pred = model_tfv.predict(X_test_tfv)\n",
    "from sklearn.metrics import accuracy_score,confusion_matrix\n",
    "score = accuracy_score(y_test,y_pred)\n",
    "score\n",
    "matrix = confusion_matrix(y_test,y_pred)\n",
    "matrix = pd.DataFrame(matrix)\n",
    "matrix.columns = ['Bad Predicted','Good Predicted']\n",
    "matrix.index = ['True Bad','True Good']"
   ]
  },
  {
   "cell_type": "code",
   "execution_count": 50,
   "metadata": {},
   "outputs": [
    {
     "name": "stdout",
     "output_type": "stream",
     "text": [
      "Accuracy of Logistic Regression Model in Review Prediction : \n",
      "93.04 %\n",
      "\n",
      "\n",
      "Confusion Matrix for the predictions : \n",
      "\n",
      "           Bad Predicted  Good Predicted\n",
      "True Bad             763             276\n",
      "True Good             39            3451\n"
     ]
    }
   ],
   "source": [
    "print('Accuracy of Logistic Regression Model in Review Prediction : ')\n",
    "print('%0.2f' % (score*100),'%')\n",
    "print()\n",
    "print()\n",
    "print('Confusion Matrix for the predictions : \\n')\n",
    "print(matrix)"
   ]
  },
  {
   "cell_type": "code",
   "execution_count": 78,
   "metadata": {},
   "outputs": [
    {
     "name": "stdout",
     "output_type": "stream",
     "text": [
      "Review Chosen : \n",
      "dress run small esp zipper area run ordered sp typically fit tight material top look feel cheap even pulling cause rip fabric pretty disappointed going christmas dress year needle say going back\n",
      "Actual Category : \n",
      "Bad\n",
      "Predicted Category : \n",
      "Bad\n"
     ]
    }
   ],
   "source": [
    "# Using above trained to predict of 2 randomly chosen sample points.\n",
    "from scipy.sparse import csr_matrix\n",
    "from scipy.sparse import hstack\n",
    "\n",
    "print('Review Chosen : ')\n",
    "rating_positive=df['Review Text'][10]\n",
    "print(rating_positive)\n",
    "rating_positive_transformed = tfv.transform([rating_positive])\n",
    "\n",
    "X_ind = csr_matrix(df['Recommended IND'][10]).T\n",
    "X_try = hstack((X_ind,rating_positive_transformed))\n",
    "\n",
    "print('Actual Category : ')\n",
    "if df['Category'][10]==0:\n",
    "    print('Bad')\n",
    "else:\n",
    "    print('Good')\n",
    "    \n",
    "print('Predicted Category : ')\n",
    "    \n",
    "if model_tfv.predict(X_try)[0]==0:\n",
    "    print('Bad')\n",
    "else:\n",
    "    print('Good')"
   ]
  },
  {
   "cell_type": "code",
   "execution_count": 70,
   "metadata": {},
   "outputs": [
    {
     "name": "stdout",
     "output_type": "stream",
     "text": [
      "Review Chosen : \n",
      "cute top transition easily summer fall fit well nice print comfortable tried store purchase color washed best color blonde would look much better brunette different color likely would purchased\n",
      "Actual Category : \n",
      "Good\n",
      "Predicted Category : \n",
      "Good\n"
     ]
    }
   ],
   "source": [
    "# Using above trained to predict of 2 randomly chosen sample points.\n",
    "from scipy.sparse import csr_matrix\n",
    "from scipy.sparse import hstack\n",
    "\n",
    "print('Review Chosen : ')\n",
    "rating_positive=df['Review Text'][50]\n",
    "print(rating_positive)\n",
    "rating_positive_transformed = tfv.transform([rating_positive])\n",
    "\n",
    "X_ind = csr_matrix(df['Recommended IND'][50]).T\n",
    "X_try = hstack((X_ind,rating_positive_transformed))\n",
    "\n",
    "print('Actual Category : ')\n",
    "if df['Category'][50]==0:\n",
    "    print('Bad')\n",
    "else:\n",
    "    print('Good')\n",
    "    \n",
    "print('Predicted Category : ')\n",
    "    \n",
    "if model_tfv.predict(X_try)[0]==0:\n",
    "    print('Bad')\n",
    "else:\n",
    "    print('Good')"
   ]
  },
  {
   "cell_type": "code",
   "execution_count": 18,
   "metadata": {},
   "outputs": [],
   "source": [
    "Dict = {}\n",
    "Dict['Logistic Regression'] = 93.04"
   ]
  },
  {
   "cell_type": "code",
   "execution_count": 37,
   "metadata": {},
   "outputs": [],
   "source": [
    "from sklearn.model_selection import GridSearchCV\n",
    "from sklearn.naive_bayes import MultinomialNB\n",
    "from sklearn.metrics import accuracy_score,confusion_matrix"
   ]
  },
  {
   "cell_type": "code",
   "execution_count": 33,
   "metadata": {},
   "outputs": [],
   "source": [
    "params = [{'alpha':[-1.5,-1.0,-0.5,0.0,1.0]}]\n",
    "model_tfv = GridSearchCV(MultinomialNB(),param_grid=params,scoring=scorer,cv=5)\n",
    "model_ctv = GridSearchCV(MultinomialNB(),param_grid=params,scoring=scorer,cv=5)"
   ]
  },
  {
   "cell_type": "code",
   "execution_count": 34,
   "metadata": {},
   "outputs": [],
   "source": [
    "# fitting model_tfv,model_ctv on X_train_tfv and X_train_ctv respectively\n",
    "# Using ctv vectorized training data\n",
    "model_ctv.fit(X_train_ctv,y_train)\n",
    "best_ctv_train_params = model_ctv.best_params_\n",
    "best_ctv_train_score = model_ctv.best_score_\n",
    "\n",
    "# Using tfv vectorized training data\n",
    "model_tfv.fit(X_train_tfv,y_train)\n",
    "best_tfv_train_params = model_tfv.best_params_\n",
    "best_tfv_train_score = model_tfv.best_score_"
   ]
  },
  {
   "cell_type": "code",
   "execution_count": 35,
   "metadata": {},
   "outputs": [
    {
     "name": "stdout",
     "output_type": "stream",
     "text": [
      "Best Parameters for training data for ctv vectorizer\n",
      "\n",
      "{'alpha': 0.0}\n",
      "\n",
      "Log Loss for training data for ctv vectorizer\n",
      "\n",
      "0.5205041100119787\n",
      "Best Parameters for training data for tfv vectorizer\n",
      "\n",
      "{'alpha': 0.0}\n",
      "\n",
      "Log Loss for training data for tfv vectorizer\n",
      "\n",
      "0.2637392186150348\n"
     ]
    }
   ],
   "source": [
    "print('Best Parameters for training data for ctv vectorizer\\n')\n",
    "print(best_ctv_train_params)\n",
    "print()\n",
    "print('Log Loss for training data for ctv vectorizer\\n')\n",
    "print(best_ctv_train_score)\n",
    "\n",
    "print('Best Parameters for training data for tfv vectorizer\\n')\n",
    "print(best_tfv_train_params)\n",
    "print()\n",
    "print('Log Loss for training data for tfv vectorizer\\n')\n",
    "print(best_tfv_train_score)"
   ]
  },
  {
   "cell_type": "markdown",
   "metadata": {},
   "source": [
    "Since Log Loss value for Term Frequency Vectorizer is less than that of Count vectorizer, it is better to use TfidfVectorizer"
   ]
  },
  {
   "cell_type": "code",
   "execution_count": 36,
   "metadata": {},
   "outputs": [
    {
     "name": "stdout",
     "output_type": "stream",
     "text": [
      "Accuracy of Naive Bayes Model in Review Prediction : \n",
      "89.58 %\n",
      "\n",
      "\n",
      "Confusion Matrix for the predictions : \n",
      "\n",
      "           Bad Predicted  Good Predicted\n",
      "True Bad             621             418\n",
      "True Good             54            3436\n"
     ]
    }
   ],
   "source": [
    "# using tfv test dataset to predict results\n",
    "y_pred = model_tfv.predict(X_test_tfv)\n",
    "score = accuracy_score(y_test,y_pred)\n",
    "score\n",
    "matrix = confusion_matrix(y_test,y_pred)\n",
    "matrix = pd.DataFrame(matrix)\n",
    "matrix.columns = ['Bad Predicted','Good Predicted']\n",
    "matrix.index = ['True Bad','True Good']\n",
    "\n",
    "print('Accuracy of Naive Bayes Model in Review Prediction : ')\n",
    "print('%0.2f' % (score*100),'%')\n",
    "print()\n",
    "print()\n",
    "print('Confusion Matrix for the predictions : \\n')\n",
    "print(matrix)"
   ]
  },
  {
   "cell_type": "code",
   "execution_count": 20,
   "metadata": {},
   "outputs": [],
   "source": [
    "Dict['Naive Bayes']=89.58"
   ]
  },
  {
   "cell_type": "code",
   "execution_count": 43,
   "metadata": {},
   "outputs": [],
   "source": [
    "from sklearn.neighbors import KNeighborsClassifier\n",
    "params = [{'n_neighbors':[3,5,7],'weights':['uniform','distance'],'algorithm':['auto','ball_tree','kd_tree','brute'],'p':[1,2]}]\n",
    "\n",
    "model_tfv = GridSearchCV(KNeighborsClassifier(),param_grid=params,scoring=scorer,cv=5)\n",
    "model_ctv = GridSearchCV(KNeighborsClassifier(),param_grid=params,scoring=scorer,cv=5)"
   ]
  },
  {
   "cell_type": "code",
   "execution_count": 44,
   "metadata": {},
   "outputs": [],
   "source": [
    "# fitting model_tfv,model_ctv on X_train_tfv and X_train_ctv respectively\n",
    "# Using ctv vectorized training data\n",
    "model_ctv.fit(X_train_ctv,y_train)\n",
    "best_ctv_train_params = model_ctv.best_params_\n",
    "best_ctv_train_score = model_ctv.best_score_\n",
    "\n",
    "# Using tfv vectorized training data\n",
    "model_tfv.fit(X_train_tfv,y_train)\n",
    "best_tfv_train_params = model_tfv.best_params_\n",
    "best_tfv_train_score = model_tfv.best_score_"
   ]
  },
  {
   "cell_type": "code",
   "execution_count": 45,
   "metadata": {},
   "outputs": [
    {
     "name": "stdout",
     "output_type": "stream",
     "text": [
      "Best Parameters for training data for ctv vectorizer\n",
      "\n",
      "{'algorithm': 'auto', 'n_neighbors': 3, 'p': 2, 'weights': 'uniform'}\n",
      "\n",
      "Log Loss for training data for ctv vectorizer\n",
      "\n",
      "2.2300866210599155\n",
      "Best Parameters for training data for tfv vectorizer\n",
      "\n",
      "{'algorithm': 'auto', 'n_neighbors': 3, 'p': 1, 'weights': 'uniform'}\n",
      "\n",
      "Log Loss for training data for tfv vectorizer\n",
      "\n",
      "1.883531135368432\n"
     ]
    }
   ],
   "source": [
    "print('Best Parameters for training data for ctv vectorizer\\n')\n",
    "print(best_ctv_train_params)\n",
    "print()\n",
    "print('Log Loss for training data for ctv vectorizer\\n')\n",
    "print(best_ctv_train_score)\n",
    "\n",
    "print('Best Parameters for training data for tfv vectorizer\\n')\n",
    "print(best_tfv_train_params)\n",
    "print()\n",
    "print('Log Loss for training data for tfv vectorizer\\n')\n",
    "print(best_tfv_train_score)"
   ]
  },
  {
   "cell_type": "markdown",
   "metadata": {},
   "source": [
    "Since Log Loss value for Term Frequency Vectorizer is less than that of Count vectorizer, it is better to use TfidfVectorizer"
   ]
  },
  {
   "cell_type": "code",
   "execution_count": 47,
   "metadata": {},
   "outputs": [
    {
     "name": "stdout",
     "output_type": "stream",
     "text": [
      "Accuracy of KNeighborsClassifier Model in Review Prediction : \n",
      "92.45 %\n",
      "\n",
      "\n",
      "Confusion Matrix for the predictions : \n",
      "\n",
      "           Bad Predicted  Good Predicted\n",
      "True Bad             769             270\n",
      "True Good             72            3418\n"
     ]
    }
   ],
   "source": [
    "# using tfv test dataset to predict results\n",
    "y_pred = model_tfv.predict(X_test_tfv)\n",
    "score = accuracy_score(y_test,y_pred)\n",
    "score\n",
    "matrix = confusion_matrix(y_test,y_pred)\n",
    "matrix = pd.DataFrame(matrix)\n",
    "matrix.columns = ['Bad Predicted','Good Predicted']\n",
    "matrix.index = ['True Bad','True Good']\n",
    "\n",
    "print('Accuracy of KNeighborsClassifier Model in Review Prediction : ')\n",
    "print('%0.2f' % (score*100),'%')\n",
    "print()\n",
    "print()\n",
    "print('Confusion Matrix for the predictions : \\n')\n",
    "print(matrix)"
   ]
  },
  {
   "cell_type": "code",
   "execution_count": 21,
   "metadata": {},
   "outputs": [],
   "source": [
    "Dict['KNeighborsClassifier']=92.45"
   ]
  },
  {
   "cell_type": "code",
   "execution_count": 30,
   "metadata": {},
   "outputs": [],
   "source": [
    "from sklearn.tree import DecisionTreeClassifier\n",
    "params = [{'max_depth':[100,1000,10000],'min_samples_split':[2,4,6],'min_samples_leaf':[6,8,10]}]\n",
    "model_tfv = GridSearchCV(DecisionTreeClassifier(),param_grid=params,scoring=scorer,cv=5)\n",
    "model_ctv = GridSearchCV(DecisionTreeClassifier(),param_grid=params,scoring=scorer,cv=5)"
   ]
  },
  {
   "cell_type": "code",
   "execution_count": 31,
   "metadata": {},
   "outputs": [],
   "source": [
    "# fitting model_tfv,model_ctv on X_train_tfv and X_train_ctv respectively\n",
    "# Using ctv vectorized training data\n",
    "model_ctv.fit(X_train_ctv,y_train)\n",
    "best_ctv_train_params = model_ctv.best_params_\n",
    "best_ctv_train_score = model_ctv.best_score_\n",
    "\n",
    "# Using tfv vectorized training data\n",
    "model_tfv.fit(X_train_tfv,y_train)\n",
    "best_tfv_train_params = model_tfv.best_params_\n",
    "best_tfv_train_score = model_tfv.best_score_"
   ]
  },
  {
   "cell_type": "code",
   "execution_count": 34,
   "metadata": {},
   "outputs": [
    {
     "name": "stdout",
     "output_type": "stream",
     "text": [
      "Best Parameters for training data for ctv vectorizer\n",
      "\n",
      "{'max_depth': 10000, 'min_samples_leaf': 6, 'min_samples_split': 4}\n",
      "\n",
      "Log Loss for training data for ctv vectorizer\n",
      "\n",
      "1.3820703421848985\n",
      "Best Parameters for training data for tfv vectorizer\n",
      "\n",
      "{'max_depth': 1000, 'min_samples_leaf': 6, 'min_samples_split': 2}\n",
      "\n",
      "Log Loss for training data for tfv vectorizer\n",
      "\n",
      "1.573566211334705\n"
     ]
    }
   ],
   "source": [
    "print('Best Parameters for training data for ctv vectorizer\\n')\n",
    "print(best_ctv_train_params)\n",
    "print()\n",
    "print('Log Loss for training data for ctv vectorizer\\n')\n",
    "print(best_ctv_train_score)\n",
    "\n",
    "print('Best Parameters for training data for tfv vectorizer\\n')\n",
    "print(best_tfv_train_params)\n",
    "print()\n",
    "print('Log Loss for training data for tfv vectorizer\\n')\n",
    "print(best_tfv_train_score)"
   ]
  },
  {
   "cell_type": "markdown",
   "metadata": {},
   "source": [
    "Since Log Loss value for Count Vectorizer is less than that of Term Frequency vectorizer, it is better to use CountVectorizer"
   ]
  },
  {
   "cell_type": "code",
   "execution_count": 35,
   "metadata": {},
   "outputs": [
    {
     "name": "stdout",
     "output_type": "stream",
     "text": [
      "Accuracy of DecisionClassifier Model in Review Prediction : \n",
      "91.10 %\n",
      "\n",
      "\n",
      "Confusion Matrix for the predictions : \n",
      "\n",
      "           Bad Predicted  Good Predicted\n",
      "True Bad             795             244\n",
      "True Good            159            3331\n"
     ]
    }
   ],
   "source": [
    "# using ctv test dataset to predict results\n",
    "y_pred = model_ctv.predict(X_test_ctv)\n",
    "score = accuracy_score(y_test,y_pred)\n",
    "score\n",
    "matrix = confusion_matrix(y_test,y_pred)\n",
    "matrix = pd.DataFrame(matrix)\n",
    "matrix.columns = ['Bad Predicted','Good Predicted']\n",
    "matrix.index = ['True Bad','True Good']\n",
    "\n",
    "print('Accuracy of DecisionClassifier Model in Review Prediction : ')\n",
    "print('%0.2f' % (score*100),'%')\n",
    "print()\n",
    "print()\n",
    "print('Confusion Matrix for the predictions : \\n')\n",
    "print(matrix)"
   ]
  },
  {
   "cell_type": "code",
   "execution_count": 22,
   "metadata": {},
   "outputs": [],
   "source": [
    "Dict['Decision Tree Classifier']=91.10"
   ]
  },
  {
   "cell_type": "code",
   "execution_count": 24,
   "metadata": {},
   "outputs": [],
   "source": [
    "from sklearn.svm import SVC\n",
    "params =[{'kernel': ['linear'], 'C': [1, 10, 100, 1000],\n",
    "                     'max_iter': [-1, 1], 'random_state': [4, 8]}]\n",
    "\n",
    "model_tfv = GridSearchCV(SVC(probability=True),param_grid=params,scoring=scorer,cv=5)\n",
    "model_ctv = GridSearchCV(SVC(probability=True),param_grid=params,scoring=scorer,cv=5)\n"
   ]
  },
  {
   "cell_type": "code",
   "execution_count": null,
   "metadata": {},
   "outputs": [],
   "source": [
    "# fitting model_tfv,model_ctv on X_train_tfv and X_train_ctv respectively\n",
    "# Using ctv vectorized training data\n",
    "model_ctv.fit(X_train_ctv,y_train)\n",
    "best_ctv_train_params = model_ctv.best_params_\n",
    "best_ctv_train_score = model_ctv.best_score_\n",
    "\n",
    "# Using tfv vectorized training data\n",
    "model_tfv.fit(X_train_tfv,y_train)\n",
    "best_tfv_train_params = model_tfv.best_params_\n",
    "best_tfv_train_score = model_tfv.best_score_"
   ]
  },
  {
   "cell_type": "code",
   "execution_count": null,
   "metadata": {},
   "outputs": [],
   "source": []
  },
  {
   "cell_type": "markdown",
   "metadata": {},
   "source": [
    "Used Logistic Regression, Naive Bayes, DecisionTree Classifier and KNeighbors Classifier as models for classification tecniques."
   ]
  },
  {
   "cell_type": "markdown",
   "metadata": {},
   "source": [
    "Trained all models on both TfidfVectorized and CountVectorized review texts and then used log_loss function to compare which vector is better to use."
   ]
  },
  {
   "cell_type": "markdown",
   "metadata": {},
   "source": [
    "On comparing found that except DecisionTree Classifier all other models performed better on TfidfVectorized data.\n",
    "After fitting the models, they were tested on the testing dataset and accuracy score and confusion matrix was used to measure accuracy and were stored in descending order in the following dictionary Models_Dict."
   ]
  },
  {
   "cell_type": "code",
   "execution_count": 50,
   "metadata": {},
   "outputs": [
    {
     "name": "stdout",
     "output_type": "stream",
     "text": [
      "{'Logistic Regression': 93.04, 'KNeighborsClassifier': 92.45, 'Decision Tree Classifier': 91.23, 'Naive Bayes': 89.58}\n"
     ]
    }
   ],
   "source": [
    "Models_Dict = {k:v for k,v in sorted(Dict.items(),key = lambda item:item[1],reverse=True)}\n",
    "print(Models_Dict)"
   ]
  },
  {
   "cell_type": "markdown",
   "metadata": {},
   "source": [
    "<h2> List of Models with their Accuracy in % in decreasing order : </h2>"
   ]
  },
  {
   "cell_type": "markdown",
   "metadata": {},
   "source": [
    "         1. Logistic Regression   : 93.04%\n",
    "         2. KNeighborsClassifier  : 92.45%\n",
    "         3. DecisionTreeClassifier: 91.23%\n",
    "         4. Naive Bayes           : 89.58%"
   ]
  }
 ],
 "metadata": {
  "kernelspec": {
   "display_name": "Python 3",
   "language": "python",
   "name": "python3"
  },
  "language_info": {
   "codemirror_mode": {
    "name": "ipython",
    "version": 3
   },
   "file_extension": ".py",
   "mimetype": "text/x-python",
   "name": "python",
   "nbconvert_exporter": "python",
   "pygments_lexer": "ipython3",
   "version": "3.6.10"
  }
 },
 "nbformat": 4,
 "nbformat_minor": 4
}
